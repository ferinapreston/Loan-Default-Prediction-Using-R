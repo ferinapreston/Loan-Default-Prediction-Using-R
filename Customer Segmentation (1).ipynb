{
 "cells": [
  {
   "cell_type": "code",
   "execution_count": 1,
   "id": "cdea9047-6799-420b-8579-47cbf20be701",
   "metadata": {},
   "outputs": [
    {
     "name": "stderr",
     "output_type": "stream",
     "text": [
      "Loading required package: lattice\n",
      "\n",
      "\n",
      "Attaching package: 'dplyr'\n",
      "\n",
      "\n",
      "The following objects are masked from 'package:stats':\n",
      "\n",
      "    filter, lag\n",
      "\n",
      "\n",
      "The following objects are masked from 'package:base':\n",
      "\n",
      "    intersect, setdiff, setequal, union\n",
      "\n",
      "\n"
     ]
    }
   ],
   "source": [
    "#install & load the required packages\n",
    "library(readxl)\n",
    "library(ggplot2)\n",
    "library(caret)\n",
    "library(dplyr)"
   ]
  },
  {
   "cell_type": "code",
   "execution_count": 3,
   "id": "d559000f-5a62-4f23-805b-0a16896f03ac",
   "metadata": {},
   "outputs": [
    {
     "data": {
      "text/html": [
       "<table class=\"dataframe\">\n",
       "<caption>A tibble: 6 × 8</caption>\n",
       "<thead>\n",
       "\t<tr><th scope=col>Invoice</th><th scope=col>StockCode</th><th scope=col>Description</th><th scope=col>Quantity</th><th scope=col>InvoiceDate</th><th scope=col>Price</th><th scope=col>Customer ID</th><th scope=col>Country</th></tr>\n",
       "\t<tr><th scope=col>&lt;chr&gt;</th><th scope=col>&lt;chr&gt;</th><th scope=col>&lt;chr&gt;</th><th scope=col>&lt;dbl&gt;</th><th scope=col>&lt;dttm&gt;</th><th scope=col>&lt;dbl&gt;</th><th scope=col>&lt;dbl&gt;</th><th scope=col>&lt;chr&gt;</th></tr>\n",
       "</thead>\n",
       "<tbody>\n",
       "\t<tr><td>489434</td><td>85048 </td><td>15CM CHRISTMAS GLASS BALL 20 LIGHTS</td><td>12</td><td>2009-12-01 07:45:00</td><td>6.95</td><td>13085</td><td>United Kingdom</td></tr>\n",
       "\t<tr><td>489434</td><td>79323P</td><td>PINK CHERRY LIGHTS                 </td><td>12</td><td>2009-12-01 07:45:00</td><td>6.75</td><td>13085</td><td>United Kingdom</td></tr>\n",
       "\t<tr><td>489434</td><td>79323W</td><td>WHITE CHERRY LIGHTS                </td><td>12</td><td>2009-12-01 07:45:00</td><td>6.75</td><td>13085</td><td>United Kingdom</td></tr>\n",
       "\t<tr><td>489434</td><td>22041 </td><td>RECORD FRAME 7\" SINGLE SIZE        </td><td>48</td><td>2009-12-01 07:45:00</td><td>2.10</td><td>13085</td><td>United Kingdom</td></tr>\n",
       "\t<tr><td>489434</td><td>21232 </td><td>STRAWBERRY CERAMIC TRINKET BOX     </td><td>24</td><td>2009-12-01 07:45:00</td><td>1.25</td><td>13085</td><td>United Kingdom</td></tr>\n",
       "\t<tr><td>489434</td><td>22064 </td><td>PINK DOUGHNUT TRINKET POT          </td><td>24</td><td>2009-12-01 07:45:00</td><td>1.65</td><td>13085</td><td>United Kingdom</td></tr>\n",
       "</tbody>\n",
       "</table>\n"
      ],
      "text/latex": [
       "A tibble: 6 × 8\n",
       "\\begin{tabular}{llllllll}\n",
       " Invoice & StockCode & Description & Quantity & InvoiceDate & Price & Customer ID & Country\\\\\n",
       " <chr> & <chr> & <chr> & <dbl> & <dttm> & <dbl> & <dbl> & <chr>\\\\\n",
       "\\hline\n",
       "\t 489434 & 85048  & 15CM CHRISTMAS GLASS BALL 20 LIGHTS & 12 & 2009-12-01 07:45:00 & 6.95 & 13085 & United Kingdom\\\\\n",
       "\t 489434 & 79323P & PINK CHERRY LIGHTS                  & 12 & 2009-12-01 07:45:00 & 6.75 & 13085 & United Kingdom\\\\\n",
       "\t 489434 & 79323W & WHITE CHERRY LIGHTS                 & 12 & 2009-12-01 07:45:00 & 6.75 & 13085 & United Kingdom\\\\\n",
       "\t 489434 & 22041  & RECORD FRAME 7\" SINGLE SIZE         & 48 & 2009-12-01 07:45:00 & 2.10 & 13085 & United Kingdom\\\\\n",
       "\t 489434 & 21232  & STRAWBERRY CERAMIC TRINKET BOX      & 24 & 2009-12-01 07:45:00 & 1.25 & 13085 & United Kingdom\\\\\n",
       "\t 489434 & 22064  & PINK DOUGHNUT TRINKET POT           & 24 & 2009-12-01 07:45:00 & 1.65 & 13085 & United Kingdom\\\\\n",
       "\\end{tabular}\n"
      ],
      "text/markdown": [
       "\n",
       "A tibble: 6 × 8\n",
       "\n",
       "| Invoice &lt;chr&gt; | StockCode &lt;chr&gt; | Description &lt;chr&gt; | Quantity &lt;dbl&gt; | InvoiceDate &lt;dttm&gt; | Price &lt;dbl&gt; | Customer ID &lt;dbl&gt; | Country &lt;chr&gt; |\n",
       "|---|---|---|---|---|---|---|---|\n",
       "| 489434 | 85048  | 15CM CHRISTMAS GLASS BALL 20 LIGHTS | 12 | 2009-12-01 07:45:00 | 6.95 | 13085 | United Kingdom |\n",
       "| 489434 | 79323P | PINK CHERRY LIGHTS                  | 12 | 2009-12-01 07:45:00 | 6.75 | 13085 | United Kingdom |\n",
       "| 489434 | 79323W | WHITE CHERRY LIGHTS                 | 12 | 2009-12-01 07:45:00 | 6.75 | 13085 | United Kingdom |\n",
       "| 489434 | 22041  | RECORD FRAME 7\" SINGLE SIZE         | 48 | 2009-12-01 07:45:00 | 2.10 | 13085 | United Kingdom |\n",
       "| 489434 | 21232  | STRAWBERRY CERAMIC TRINKET BOX      | 24 | 2009-12-01 07:45:00 | 1.25 | 13085 | United Kingdom |\n",
       "| 489434 | 22064  | PINK DOUGHNUT TRINKET POT           | 24 | 2009-12-01 07:45:00 | 1.65 | 13085 | United Kingdom |\n",
       "\n"
      ],
      "text/plain": [
       "  Invoice StockCode Description                         Quantity\n",
       "1 489434  85048     15CM CHRISTMAS GLASS BALL 20 LIGHTS 12      \n",
       "2 489434  79323P    PINK CHERRY LIGHTS                  12      \n",
       "3 489434  79323W    WHITE CHERRY LIGHTS                 12      \n",
       "4 489434  22041     RECORD FRAME 7\" SINGLE SIZE         48      \n",
       "5 489434  21232     STRAWBERRY CERAMIC TRINKET BOX      24      \n",
       "6 489434  22064     PINK DOUGHNUT TRINKET POT           24      \n",
       "  InvoiceDate         Price Customer ID Country       \n",
       "1 2009-12-01 07:45:00 6.95  13085       United Kingdom\n",
       "2 2009-12-01 07:45:00 6.75  13085       United Kingdom\n",
       "3 2009-12-01 07:45:00 6.75  13085       United Kingdom\n",
       "4 2009-12-01 07:45:00 2.10  13085       United Kingdom\n",
       "5 2009-12-01 07:45:00 1.25  13085       United Kingdom\n",
       "6 2009-12-01 07:45:00 1.65  13085       United Kingdom"
      ]
     },
     "metadata": {},
     "output_type": "display_data"
    }
   ],
   "source": [
    "#load dataset\n",
    "data <- read_excel(\"C:/Users/Ferina/Downloads/online_retail.xlsx\")\n",
    "head(data)"
   ]
  },
  {
   "cell_type": "code",
   "execution_count": 7,
   "id": "3b7cb690-17c9-4a18-bf15-c8990f161d65",
   "metadata": {},
   "outputs": [
    {
     "data": {
      "text/html": [
       "<table class=\"dataframe\">\n",
       "<caption>A tibble: 6 × 9</caption>\n",
       "<thead>\n",
       "\t<tr><th scope=col>Invoice</th><th scope=col>StockCode</th><th scope=col>Description</th><th scope=col>Quantity</th><th scope=col>InvoiceDate</th><th scope=col>Price</th><th scope=col>Customer ID</th><th scope=col>Country</th><th scope=col>TotalPrice</th></tr>\n",
       "\t<tr><th scope=col>&lt;chr&gt;</th><th scope=col>&lt;chr&gt;</th><th scope=col>&lt;chr&gt;</th><th scope=col>&lt;dbl&gt;</th><th scope=col>&lt;dttm&gt;</th><th scope=col>&lt;dbl&gt;</th><th scope=col>&lt;dbl&gt;</th><th scope=col>&lt;chr&gt;</th><th scope=col>&lt;dbl&gt;</th></tr>\n",
       "</thead>\n",
       "<tbody>\n",
       "\t<tr><td>489434</td><td>85048 </td><td>15CM CHRISTMAS GLASS BALL 20 LIGHTS</td><td>12</td><td>2009-12-01 07:45:00</td><td>6.95</td><td>13085</td><td>United Kingdom</td><td> 83.4</td></tr>\n",
       "\t<tr><td>489434</td><td>79323P</td><td>PINK CHERRY LIGHTS                 </td><td>12</td><td>2009-12-01 07:45:00</td><td>6.75</td><td>13085</td><td>United Kingdom</td><td> 81.0</td></tr>\n",
       "\t<tr><td>489434</td><td>79323W</td><td>WHITE CHERRY LIGHTS                </td><td>12</td><td>2009-12-01 07:45:00</td><td>6.75</td><td>13085</td><td>United Kingdom</td><td> 81.0</td></tr>\n",
       "\t<tr><td>489434</td><td>22041 </td><td>RECORD FRAME 7\" SINGLE SIZE        </td><td>48</td><td>2009-12-01 07:45:00</td><td>2.10</td><td>13085</td><td>United Kingdom</td><td>100.8</td></tr>\n",
       "\t<tr><td>489434</td><td>21232 </td><td>STRAWBERRY CERAMIC TRINKET BOX     </td><td>24</td><td>2009-12-01 07:45:00</td><td>1.25</td><td>13085</td><td>United Kingdom</td><td> 30.0</td></tr>\n",
       "\t<tr><td>489434</td><td>22064 </td><td>PINK DOUGHNUT TRINKET POT          </td><td>24</td><td>2009-12-01 07:45:00</td><td>1.65</td><td>13085</td><td>United Kingdom</td><td> 39.6</td></tr>\n",
       "</tbody>\n",
       "</table>\n"
      ],
      "text/latex": [
       "A tibble: 6 × 9\n",
       "\\begin{tabular}{lllllllll}\n",
       " Invoice & StockCode & Description & Quantity & InvoiceDate & Price & Customer ID & Country & TotalPrice\\\\\n",
       " <chr> & <chr> & <chr> & <dbl> & <dttm> & <dbl> & <dbl> & <chr> & <dbl>\\\\\n",
       "\\hline\n",
       "\t 489434 & 85048  & 15CM CHRISTMAS GLASS BALL 20 LIGHTS & 12 & 2009-12-01 07:45:00 & 6.95 & 13085 & United Kingdom &  83.4\\\\\n",
       "\t 489434 & 79323P & PINK CHERRY LIGHTS                  & 12 & 2009-12-01 07:45:00 & 6.75 & 13085 & United Kingdom &  81.0\\\\\n",
       "\t 489434 & 79323W & WHITE CHERRY LIGHTS                 & 12 & 2009-12-01 07:45:00 & 6.75 & 13085 & United Kingdom &  81.0\\\\\n",
       "\t 489434 & 22041  & RECORD FRAME 7\" SINGLE SIZE         & 48 & 2009-12-01 07:45:00 & 2.10 & 13085 & United Kingdom & 100.8\\\\\n",
       "\t 489434 & 21232  & STRAWBERRY CERAMIC TRINKET BOX      & 24 & 2009-12-01 07:45:00 & 1.25 & 13085 & United Kingdom &  30.0\\\\\n",
       "\t 489434 & 22064  & PINK DOUGHNUT TRINKET POT           & 24 & 2009-12-01 07:45:00 & 1.65 & 13085 & United Kingdom &  39.6\\\\\n",
       "\\end{tabular}\n"
      ],
      "text/markdown": [
       "\n",
       "A tibble: 6 × 9\n",
       "\n",
       "| Invoice &lt;chr&gt; | StockCode &lt;chr&gt; | Description &lt;chr&gt; | Quantity &lt;dbl&gt; | InvoiceDate &lt;dttm&gt; | Price &lt;dbl&gt; | Customer ID &lt;dbl&gt; | Country &lt;chr&gt; | TotalPrice &lt;dbl&gt; |\n",
       "|---|---|---|---|---|---|---|---|---|\n",
       "| 489434 | 85048  | 15CM CHRISTMAS GLASS BALL 20 LIGHTS | 12 | 2009-12-01 07:45:00 | 6.95 | 13085 | United Kingdom |  83.4 |\n",
       "| 489434 | 79323P | PINK CHERRY LIGHTS                  | 12 | 2009-12-01 07:45:00 | 6.75 | 13085 | United Kingdom |  81.0 |\n",
       "| 489434 | 79323W | WHITE CHERRY LIGHTS                 | 12 | 2009-12-01 07:45:00 | 6.75 | 13085 | United Kingdom |  81.0 |\n",
       "| 489434 | 22041  | RECORD FRAME 7\" SINGLE SIZE         | 48 | 2009-12-01 07:45:00 | 2.10 | 13085 | United Kingdom | 100.8 |\n",
       "| 489434 | 21232  | STRAWBERRY CERAMIC TRINKET BOX      | 24 | 2009-12-01 07:45:00 | 1.25 | 13085 | United Kingdom |  30.0 |\n",
       "| 489434 | 22064  | PINK DOUGHNUT TRINKET POT           | 24 | 2009-12-01 07:45:00 | 1.65 | 13085 | United Kingdom |  39.6 |\n",
       "\n"
      ],
      "text/plain": [
       "  Invoice StockCode Description                         Quantity\n",
       "1 489434  85048     15CM CHRISTMAS GLASS BALL 20 LIGHTS 12      \n",
       "2 489434  79323P    PINK CHERRY LIGHTS                  12      \n",
       "3 489434  79323W    WHITE CHERRY LIGHTS                 12      \n",
       "4 489434  22041     RECORD FRAME 7\" SINGLE SIZE         48      \n",
       "5 489434  21232     STRAWBERRY CERAMIC TRINKET BOX      24      \n",
       "6 489434  22064     PINK DOUGHNUT TRINKET POT           24      \n",
       "  InvoiceDate         Price Customer ID Country        TotalPrice\n",
       "1 2009-12-01 07:45:00 6.95  13085       United Kingdom  83.4     \n",
       "2 2009-12-01 07:45:00 6.75  13085       United Kingdom  81.0     \n",
       "3 2009-12-01 07:45:00 6.75  13085       United Kingdom  81.0     \n",
       "4 2009-12-01 07:45:00 2.10  13085       United Kingdom 100.8     \n",
       "5 2009-12-01 07:45:00 1.25  13085       United Kingdom  30.0     \n",
       "6 2009-12-01 07:45:00 1.65  13085       United Kingdom  39.6     "
      ]
     },
     "metadata": {},
     "output_type": "display_data"
    }
   ],
   "source": [
    "#clean the data\n",
    "\n",
    "# Keep only rows with valid (positive) Quantity and Price\n",
    "data <- data %>%\n",
    "filter(Quantity > 0, Price > 0) %>%\n",
    "  \n",
    "# Create a new column 'TotalPrice' as Quantity × Price\n",
    "mutate(TotalPrice = Quantity * Price)\n",
    "\n",
    "# Show the first few cleaned rows\n",
    "head(data)"
   ]
  },
  {
   "cell_type": "code",
   "execution_count": 9,
   "id": "34ffe33e-a950-4f62-9311-c9b2a2b8b48c",
   "metadata": {},
   "outputs": [
    {
     "data": {
      "text/html": [
       "<table class=\"dataframe\">\n",
       "<caption>A tibble: 6 × 4</caption>\n",
       "<thead>\n",
       "\t<tr><th scope=col>Customer ID</th><th scope=col>Frequency</th><th scope=col>Monetary</th><th scope=col>AvgPrice</th></tr>\n",
       "\t<tr><th scope=col>&lt;dbl&gt;</th><th scope=col>&lt;int&gt;</th><th scope=col>&lt;dbl&gt;</th><th scope=col>&lt;dbl&gt;</th></tr>\n",
       "</thead>\n",
       "<tbody>\n",
       "\t<tr><td>12346</td><td> 33</td><td> 372.86</td><td>6.253333</td></tr>\n",
       "\t<tr><td>12347</td><td> 71</td><td>1323.32</td><td>2.295070</td></tr>\n",
       "\t<tr><td>12348</td><td> 20</td><td> 222.16</td><td>0.719500</td></tr>\n",
       "\t<tr><td>12349</td><td>102</td><td>2671.14</td><td>8.581765</td></tr>\n",
       "\t<tr><td>12351</td><td> 21</td><td> 300.93</td><td>2.355238</td></tr>\n",
       "\t<tr><td>12352</td><td> 18</td><td> 343.80</td><td>3.033333</td></tr>\n",
       "</tbody>\n",
       "</table>\n"
      ],
      "text/latex": [
       "A tibble: 6 × 4\n",
       "\\begin{tabular}{llll}\n",
       " Customer ID & Frequency & Monetary & AvgPrice\\\\\n",
       " <dbl> & <int> & <dbl> & <dbl>\\\\\n",
       "\\hline\n",
       "\t 12346 &  33 &  372.86 & 6.253333\\\\\n",
       "\t 12347 &  71 & 1323.32 & 2.295070\\\\\n",
       "\t 12348 &  20 &  222.16 & 0.719500\\\\\n",
       "\t 12349 & 102 & 2671.14 & 8.581765\\\\\n",
       "\t 12351 &  21 &  300.93 & 2.355238\\\\\n",
       "\t 12352 &  18 &  343.80 & 3.033333\\\\\n",
       "\\end{tabular}\n"
      ],
      "text/markdown": [
       "\n",
       "A tibble: 6 × 4\n",
       "\n",
       "| Customer ID &lt;dbl&gt; | Frequency &lt;int&gt; | Monetary &lt;dbl&gt; | AvgPrice &lt;dbl&gt; |\n",
       "|---|---|---|---|\n",
       "| 12346 |  33 |  372.86 | 6.253333 |\n",
       "| 12347 |  71 | 1323.32 | 2.295070 |\n",
       "| 12348 |  20 |  222.16 | 0.719500 |\n",
       "| 12349 | 102 | 2671.14 | 8.581765 |\n",
       "| 12351 |  21 |  300.93 | 2.355238 |\n",
       "| 12352 |  18 |  343.80 | 3.033333 |\n",
       "\n"
      ],
      "text/plain": [
       "  Customer ID Frequency Monetary AvgPrice\n",
       "1 12346        33        372.86  6.253333\n",
       "2 12347        71       1323.32  2.295070\n",
       "3 12348        20        222.16  0.719500\n",
       "4 12349       102       2671.14  8.581765\n",
       "5 12351        21        300.93  2.355238\n",
       "6 12352        18        343.80  3.033333"
      ]
     },
     "metadata": {},
     "output_type": "display_data"
    }
   ],
   "source": [
    "#Create RFM Summary Table\n",
    "rfm_data <- data %>%\n",
    "group_by(`Customer ID`) %>%\n",
    "summarise(\n",
    "Frequency = n(),                     \n",
    "Monetary = sum(TotalPrice),         \n",
    "AvgPrice = mean(Price)              \n",
    ") %>%\n",
    "na.omit()  \n",
    "\n",
    "# View the RFM table\n",
    "head(rfm_data)"
   ]
  },
  {
   "cell_type": "code",
   "execution_count": 11,
   "id": "44156704-7f81-4bb9-8a9b-a6de967c1f38",
   "metadata": {},
   "outputs": [
    {
     "data": {
      "text/html": [
       "<table class=\"dataframe\">\n",
       "<caption>A tibble: 6 × 3</caption>\n",
       "<thead>\n",
       "\t<tr><th scope=col>Frequency</th><th scope=col>Monetary</th><th scope=col>AvgPrice</th></tr>\n",
       "\t<tr><th scope=col>&lt;dbl&gt;</th><th scope=col>&lt;dbl&gt;</th><th scope=col>&lt;dbl&gt;</th></tr>\n",
       "</thead>\n",
       "<tbody>\n",
       "\t<tr><td>-0.30459212</td><td>-0.18793895</td><td>-0.017742923</td></tr>\n",
       "\t<tr><td>-0.11651652</td><td>-0.08131917</td><td>-0.037205940</td></tr>\n",
       "\t<tr><td>-0.36893377</td><td>-0.20484403</td><td>-0.044953115</td></tr>\n",
       "\t<tr><td> 0.03691358</td><td> 0.06987527</td><td>-0.006293885</td></tr>\n",
       "\t<tr><td>-0.36398441</td><td>-0.19600784</td><td>-0.036910092</td></tr>\n",
       "\t<tr><td>-0.37883249</td><td>-0.19119881</td><td>-0.033575857</td></tr>\n",
       "</tbody>\n",
       "</table>\n"
      ],
      "text/latex": [
       "A tibble: 6 × 3\n",
       "\\begin{tabular}{lll}\n",
       " Frequency & Monetary & AvgPrice\\\\\n",
       " <dbl> & <dbl> & <dbl>\\\\\n",
       "\\hline\n",
       "\t -0.30459212 & -0.18793895 & -0.017742923\\\\\n",
       "\t -0.11651652 & -0.08131917 & -0.037205940\\\\\n",
       "\t -0.36893377 & -0.20484403 & -0.044953115\\\\\n",
       "\t  0.03691358 &  0.06987527 & -0.006293885\\\\\n",
       "\t -0.36398441 & -0.19600784 & -0.036910092\\\\\n",
       "\t -0.37883249 & -0.19119881 & -0.033575857\\\\\n",
       "\\end{tabular}\n"
      ],
      "text/markdown": [
       "\n",
       "A tibble: 6 × 3\n",
       "\n",
       "| Frequency &lt;dbl&gt; | Monetary &lt;dbl&gt; | AvgPrice &lt;dbl&gt; |\n",
       "|---|---|---|\n",
       "| -0.30459212 | -0.18793895 | -0.017742923 |\n",
       "| -0.11651652 | -0.08131917 | -0.037205940 |\n",
       "| -0.36893377 | -0.20484403 | -0.044953115 |\n",
       "|  0.03691358 |  0.06987527 | -0.006293885 |\n",
       "| -0.36398441 | -0.19600784 | -0.036910092 |\n",
       "| -0.37883249 | -0.19119881 | -0.033575857 |\n",
       "\n"
      ],
      "text/plain": [
       "  Frequency   Monetary    AvgPrice    \n",
       "1 -0.30459212 -0.18793895 -0.017742923\n",
       "2 -0.11651652 -0.08131917 -0.037205940\n",
       "3 -0.36893377 -0.20484403 -0.044953115\n",
       "4  0.03691358  0.06987527 -0.006293885\n",
       "5 -0.36398441 -0.19600784 -0.036910092\n",
       "6 -0.37883249 -0.19119881 -0.033575857"
      ]
     },
     "metadata": {},
     "output_type": "display_data"
    }
   ],
   "source": [
    "#Normalize the RFM Data\n",
    "\n",
    "# Normalize only numeric features (excluding Customer ID)\n",
    "preproc <- preProcess(rfm_data[, -1], method = c(\"center\", \"scale\"))\n",
    "\n",
    "norm_data <- predict(preproc, rfm_data[, -1])\n",
    "\n",
    "# View first few normalized rows\n",
    "head(norm_data)"
   ]
  },
  {
   "cell_type": "code",
   "execution_count": 13,
   "id": "5fd36a3a-a45c-4b99-9e4f-4bf14570e2f6",
   "metadata": {},
   "outputs": [
    {
     "data": {
      "text/html": [
       "<table class=\"dataframe\">\n",
       "<caption>A tibble: 6 × 5</caption>\n",
       "<thead>\n",
       "\t<tr><th scope=col>Customer ID</th><th scope=col>Frequency</th><th scope=col>Monetary</th><th scope=col>AvgPrice</th><th scope=col>Cluster</th></tr>\n",
       "\t<tr><th scope=col>&lt;dbl&gt;</th><th scope=col>&lt;int&gt;</th><th scope=col>&lt;dbl&gt;</th><th scope=col>&lt;dbl&gt;</th><th scope=col>&lt;fct&gt;</th></tr>\n",
       "</thead>\n",
       "<tbody>\n",
       "\t<tr><td>12346</td><td> 33</td><td> 372.86</td><td>6.253333</td><td>3</td></tr>\n",
       "\t<tr><td>12347</td><td> 71</td><td>1323.32</td><td>2.295070</td><td>3</td></tr>\n",
       "\t<tr><td>12348</td><td> 20</td><td> 222.16</td><td>0.719500</td><td>3</td></tr>\n",
       "\t<tr><td>12349</td><td>102</td><td>2671.14</td><td>8.581765</td><td>3</td></tr>\n",
       "\t<tr><td>12351</td><td> 21</td><td> 300.93</td><td>2.355238</td><td>3</td></tr>\n",
       "\t<tr><td>12352</td><td> 18</td><td> 343.80</td><td>3.033333</td><td>3</td></tr>\n",
       "</tbody>\n",
       "</table>\n"
      ],
      "text/latex": [
       "A tibble: 6 × 5\n",
       "\\begin{tabular}{lllll}\n",
       " Customer ID & Frequency & Monetary & AvgPrice & Cluster\\\\\n",
       " <dbl> & <int> & <dbl> & <dbl> & <fct>\\\\\n",
       "\\hline\n",
       "\t 12346 &  33 &  372.86 & 6.253333 & 3\\\\\n",
       "\t 12347 &  71 & 1323.32 & 2.295070 & 3\\\\\n",
       "\t 12348 &  20 &  222.16 & 0.719500 & 3\\\\\n",
       "\t 12349 & 102 & 2671.14 & 8.581765 & 3\\\\\n",
       "\t 12351 &  21 &  300.93 & 2.355238 & 3\\\\\n",
       "\t 12352 &  18 &  343.80 & 3.033333 & 3\\\\\n",
       "\\end{tabular}\n"
      ],
      "text/markdown": [
       "\n",
       "A tibble: 6 × 5\n",
       "\n",
       "| Customer ID &lt;dbl&gt; | Frequency &lt;int&gt; | Monetary &lt;dbl&gt; | AvgPrice &lt;dbl&gt; | Cluster &lt;fct&gt; |\n",
       "|---|---|---|---|---|\n",
       "| 12346 |  33 |  372.86 | 6.253333 | 3 |\n",
       "| 12347 |  71 | 1323.32 | 2.295070 | 3 |\n",
       "| 12348 |  20 |  222.16 | 0.719500 | 3 |\n",
       "| 12349 | 102 | 2671.14 | 8.581765 | 3 |\n",
       "| 12351 |  21 |  300.93 | 2.355238 | 3 |\n",
       "| 12352 |  18 |  343.80 | 3.033333 | 3 |\n",
       "\n"
      ],
      "text/plain": [
       "  Customer ID Frequency Monetary AvgPrice Cluster\n",
       "1 12346        33        372.86  6.253333 3      \n",
       "2 12347        71       1323.32  2.295070 3      \n",
       "3 12348        20        222.16  0.719500 3      \n",
       "4 12349       102       2671.14  8.581765 3      \n",
       "5 12351        21        300.93  2.355238 3      \n",
       "6 12352        18        343.80  3.033333 3      "
      ]
     },
     "metadata": {},
     "output_type": "display_data"
    }
   ],
   "source": [
    "#K-Means Clustering\n",
    "set.seed(123)  \n",
    "\n",
    "# Run K-Means with 3 clusters\n",
    "kmeans_result <- kmeans(norm_data, centers = 3, nstart = 25)\n",
    "\n",
    "# Add cluster labels to the original RFM table\n",
    "rfm_data$Cluster <- as.factor(kmeans_result$cluster)\n",
    "\n",
    "# View a sample of clustered data\n",
    "head(rfm_data)"
   ]
  },
  {
   "cell_type": "code",
   "execution_count": 25,
   "id": "d471ef41-ffa0-4908-aa32-1e752f011549",
   "metadata": {},
   "outputs": [
    {
     "data": {
      "image/png": "[encoded data removed]",
      "text/plain": [
       "plot without title"
      ]
     },
     "metadata": {
      "image/png": {
       "height": 420,
       "width": 720
      }
     },
     "output_type": "display_data"
    }
   ],
   "source": [
    "#Visualize the Clusters\n",
    "# Visualize PCA clusters\n",
    "ggplot(pca_data, aes(x = PC1, y = PC2, color = Cluster)) +\n",
    "  geom_point(size = 4) +\n",
    "  labs(title = \"Customer Clusters (PCA 2D Projection)\") +\n",
    "  theme_minimal()\n"
   ]
  },
  {
   "cell_type": "code",
   "execution_count": null,
   "id": "9a2df89d-d27e-4a9a-92b1-0d23fe336e89",
   "metadata": {},
   "outputs": [],
   "source": []
  }
 ],
 "metadata": {
  "kernelspec": {
   "display_name": "R",
   "language": "R",
   "name": "ir"
  },
  "language_info": {
   "codemirror_mode": "r",
   "file_extension": ".r",
   "mimetype": "text/x-r-source",
   "name": "R",
   "pygments_lexer": "r",
   "version": "4.1.3"
  }
 },
 "nbformat": 4,
 "nbformat_minor": 5
}
